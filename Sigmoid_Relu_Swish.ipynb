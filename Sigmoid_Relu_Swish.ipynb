{
  "nbformat": 4,
  "nbformat_minor": 0,
  "metadata": {
    "colab": {
      "provenance": [],
      "authorship_tag": "ABX9TyNzViUBBT4zcckie956l7Cr",
      "include_colab_link": true
    },
    "kernelspec": {
      "name": "python3",
      "display_name": "Python 3"
    },
    "language_info": {
      "name": "python"
    }
  },
  "cells": [
    {
      "cell_type": "markdown",
      "metadata": {
        "id": "view-in-github",
        "colab_type": "text"
      },
      "source": [
        "<a href=\"https://colab.research.google.com/github/emredeveloper/Machine-Learning-Codes/blob/main/Sigmoid_Relu_Swish.ipynb\" target=\"_parent\"><img src=\"https://colab.research.google.com/assets/colab-badge.svg\" alt=\"Open In Colab\"/></a>"
      ]
    },
    {
      "cell_type": "code",
      "execution_count": 45,
      "metadata": {
        "id": "RSKyhBGm6Sen"
      },
      "outputs": [],
      "source": [
        "import numpy as np\n",
        "import matplotlib.pyplot as plt\n",
        "from sklearn.model_selection import train_test_split\n",
        "from sklearn.metrics import accuracy_score\n",
        "from keras.models import Sequential\n",
        "from keras.layers import Dense, Activation\n",
        "import numpy as np\n",
        "\n",
        "# Sabit veri kümesi oluşturma\n",
        "import numpy as np\n",
        "\n",
        "# Sabit veri kümesi oluşturma\n",
        "X = np.array([[1, 2, 3, 4, 5],\n",
        "              [2, 3, 4, 5, 6],\n",
        "              [3, 4, 5, 6, 7],\n",
        "              [4, 5, 6, 7, 8],\n",
        "              [5, 6, 7, 8, 9],\n",
        "              [6, 7, 8, 9, 10],\n",
        "              [7, 8, 9, 10, 11],\n",
        "              [8, 9, 10, 11, 12],\n",
        "              [9, 10, 11, 12, 13],\n",
        "              [10, 11, 12, 13, 14]])\n",
        "\n",
        "y = np.array([0, 0, 0, 0, 0, 1, 1, 1, 1, 1])\n",
        "\n"
      ]
    },
    {
      "cell_type": "code",
      "source": [
        "# Eğitim ve test verilerini bölme\n",
        "X_train, X_test, y_train, y_test = train_test_split(X, y, test_size=0.2, random_state=42)\n",
        "\n",
        "# Sigmoid aktivasyon fonksiyonu ile model oluşturma\n",
        "sigmoid_model = Sequential()\n",
        "sigmoid_model.add(Dense(64, input_shape=(5,)))\n",
        "sigmoid_model.add(Activation('sigmoid'))\n",
        "sigmoid_model.add(Dense(1))\n",
        "sigmoid_model.add(Activation('sigmoid'))\n",
        "\n",
        "# ReLU aktivasyon fonksiyonu ile model oluşturma\n",
        "relu_model = Sequential()\n",
        "relu_model.add(Dense(64, input_shape=(5,)))\n",
        "relu_model.add(Activation('relu'))\n",
        "relu_model.add(Dense(1))\n",
        "relu_model.add(Activation('sigmoid'))  # Çıkış katmanında yine sigmoid kullanıyoruz"
      ],
      "metadata": {
        "id": "Cf23DKc36XVD"
      },
      "execution_count": 46,
      "outputs": []
    },
    {
      "cell_type": "code",
      "source": [
        "import keras"
      ],
      "metadata": {
        "id": "bWEpyMu26nCQ"
      },
      "execution_count": 47,
      "outputs": []
    },
    {
      "cell_type": "code",
      "source": [
        "def swish(x):\n",
        "    return x * keras.activations.sigmoid(x)\n",
        "\n",
        "swish_model = Sequential()\n",
        "swish_model.add(Dense(64, input_shape=(5,)))\n",
        "swish_model.add(Activation(swish))\n",
        "swish_model.add(Dense(1))\n",
        "swish_model.add(Activation('sigmoid'))  # Çıkış katmanında yine sigmoid kullanıyoruz\n",
        "\n",
        "# Modelleri derleme ve yapılandırma\n",
        "sigmoid_model.compile(loss='binary_crossentropy', optimizer='adam', metrics=['accuracy'])\n",
        "relu_model.compile(loss='binary_crossentropy', optimizer='adam', metrics=['accuracy'])\n",
        "swish_model.compile(loss='binary_crossentropy', optimizer='adam', metrics=['accuracy'])"
      ],
      "metadata": {
        "id": "Jwr9IMLk6aWM"
      },
      "execution_count": 48,
      "outputs": []
    },
    {
      "cell_type": "code",
      "source": [
        "# Modelleri eğitme\n",
        "sigmoid_model.fit(X_train, y_train, epochs=10, batch_size=32)\n",
        "relu_model.fit(X_train, y_train, epochs=10, batch_size=32)\n",
        "swish_model.fit(X_train, y_train, epochs=10, batch_size=32)"
      ],
      "metadata": {
        "colab": {
          "base_uri": "https://localhost:8080/"
        },
        "id": "iUfV2jJ76qR6",
        "outputId": "cb8a7e16-925d-432c-b1c0-c6c389e7fcac"
      },
      "execution_count": 49,
      "outputs": [
        {
          "output_type": "stream",
          "name": "stdout",
          "text": [
            "Epoch 1/10\n",
            "1/1 [==============================] - 1s 1s/step - loss: 0.7038 - accuracy: 0.5000\n",
            "Epoch 2/10\n",
            "1/1 [==============================] - 0s 17ms/step - loss: 0.6952 - accuracy: 0.5000\n",
            "Epoch 3/10\n",
            "1/1 [==============================] - 0s 18ms/step - loss: 0.6875 - accuracy: 0.5000\n",
            "Epoch 4/10\n",
            "1/1 [==============================] - 0s 14ms/step - loss: 0.6805 - accuracy: 0.5000\n",
            "Epoch 5/10\n",
            "1/1 [==============================] - 0s 19ms/step - loss: 0.6741 - accuracy: 0.5000\n",
            "Epoch 6/10\n",
            "1/1 [==============================] - 0s 16ms/step - loss: 0.6681 - accuracy: 0.5000\n",
            "Epoch 7/10\n",
            "1/1 [==============================] - 0s 13ms/step - loss: 0.6624 - accuracy: 0.6250\n",
            "Epoch 8/10\n",
            "1/1 [==============================] - 0s 13ms/step - loss: 0.6569 - accuracy: 0.6250\n",
            "Epoch 9/10\n",
            "1/1 [==============================] - 0s 14ms/step - loss: 0.6515 - accuracy: 0.6250\n",
            "Epoch 10/10\n",
            "1/1 [==============================] - 0s 14ms/step - loss: 0.6462 - accuracy: 0.6250\n",
            "Epoch 1/10\n",
            "1/1 [==============================] - 1s 716ms/step - loss: 0.7696 - accuracy: 0.5000\n",
            "Epoch 2/10\n",
            "1/1 [==============================] - 0s 26ms/step - loss: 0.7304 - accuracy: 0.5000\n",
            "Epoch 3/10\n",
            "1/1 [==============================] - 0s 19ms/step - loss: 0.6988 - accuracy: 0.5000\n",
            "Epoch 4/10\n",
            "1/1 [==============================] - 0s 22ms/step - loss: 0.6760 - accuracy: 0.5000\n",
            "Epoch 5/10\n",
            "1/1 [==============================] - 0s 14ms/step - loss: 0.6623 - accuracy: 0.5000\n",
            "Epoch 6/10\n",
            "1/1 [==============================] - 0s 8ms/step - loss: 0.6571 - accuracy: 0.5000\n",
            "Epoch 7/10\n",
            "1/1 [==============================] - 0s 12ms/step - loss: 0.6583 - accuracy: 0.5000\n",
            "Epoch 8/10\n",
            "1/1 [==============================] - 0s 22ms/step - loss: 0.6627 - accuracy: 0.5000\n",
            "Epoch 9/10\n",
            "1/1 [==============================] - 0s 19ms/step - loss: 0.6666 - accuracy: 0.5000\n",
            "Epoch 10/10\n",
            "1/1 [==============================] - 0s 20ms/step - loss: 0.6678 - accuracy: 0.5000\n",
            "Epoch 1/10\n",
            "1/1 [==============================] - 2s 2s/step - loss: 0.7137 - accuracy: 0.5000\n",
            "Epoch 2/10\n",
            "1/1 [==============================] - 0s 12ms/step - loss: 0.6981 - accuracy: 0.5000\n",
            "Epoch 3/10\n",
            "1/1 [==============================] - 0s 12ms/step - loss: 0.6901 - accuracy: 0.5000\n",
            "Epoch 4/10\n",
            "1/1 [==============================] - 0s 15ms/step - loss: 0.6800 - accuracy: 0.5000\n",
            "Epoch 5/10\n",
            "1/1 [==============================] - 0s 15ms/step - loss: 0.6681 - accuracy: 0.5000\n",
            "Epoch 6/10\n",
            "1/1 [==============================] - 0s 20ms/step - loss: 0.6562 - accuracy: 0.5000\n",
            "Epoch 7/10\n",
            "1/1 [==============================] - 0s 10ms/step - loss: 0.6455 - accuracy: 0.5000\n",
            "Epoch 8/10\n",
            "1/1 [==============================] - 0s 19ms/step - loss: 0.6356 - accuracy: 0.5000\n",
            "Epoch 9/10\n",
            "1/1 [==============================] - 0s 12ms/step - loss: 0.6258 - accuracy: 0.5000\n",
            "Epoch 10/10\n",
            "1/1 [==============================] - 0s 13ms/step - loss: 0.6157 - accuracy: 0.5000\n"
          ]
        },
        {
          "output_type": "execute_result",
          "data": {
            "text/plain": [
              "<keras.src.callbacks.History at 0x7e478f16c310>"
            ]
          },
          "metadata": {},
          "execution_count": 49
        }
      ]
    },
    {
      "cell_type": "code",
      "source": [
        "# Modelleri test verileriyle değerlendirme\n",
        "sigmoid_pred = sigmoid_model.predict(X_test)\n",
        "relu_pred = relu_model.predict(X_test)\n",
        "swish_pred = swish_model.predict(X_test)"
      ],
      "metadata": {
        "colab": {
          "base_uri": "https://localhost:8080/"
        },
        "id": "ADFRdmij60ZP",
        "outputId": "ab67ffc1-a7fd-44f3-e1dd-128dfd366def"
      },
      "execution_count": 50,
      "outputs": [
        {
          "output_type": "stream",
          "name": "stderr",
          "text": [
            "WARNING:tensorflow:5 out of the last 11 calls to <function Model.make_predict_function.<locals>.predict_function at 0x7e478f2531c0> triggered tf.function retracing. Tracing is expensive and the excessive number of tracings could be due to (1) creating @tf.function repeatedly in a loop, (2) passing tensors with different shapes, (3) passing Python objects instead of tensors. For (1), please define your @tf.function outside of the loop. For (2), @tf.function has reduce_retracing=True option that can avoid unnecessary retracing. For (3), please refer to https://www.tensorflow.org/guide/function#controlling_retracing and https://www.tensorflow.org/api_docs/python/tf/function for  more details.\n"
          ]
        },
        {
          "output_type": "stream",
          "name": "stdout",
          "text": [
            "1/1 [==============================] - 0s 92ms/step\n",
            "1/1 [==============================] - 0s 93ms/step\n",
            "1/1 [==============================] - 0s 97ms/step\n"
          ]
        }
      ]
    },
    {
      "cell_type": "code",
      "source": [
        "sigmoid_accuracy = accuracy_score(y_test, sigmoid_pred.round())\n",
        "relu_accuracy = accuracy_score(y_test, relu_pred.round())\n",
        "swish_accuracy = accuracy_score(y_test, swish_pred.round())\n",
        "\n",
        "# Doğruluk değerlerini yazdırma\n",
        "print(\"Sigmoid Model Doğruluk:\", sigmoid_accuracy)\n",
        "print(\"ReLU Model Doğruluk:\", relu_accuracy)\n",
        "print(\"Swish Model Doğruluk:\", swish_accuracy)"
      ],
      "metadata": {
        "colab": {
          "base_uri": "https://localhost:8080/"
        },
        "id": "YjKJWaJc63Jx",
        "outputId": "12c30e7e-264e-4c3f-a74e-7a4498412c9a"
      },
      "execution_count": 51,
      "outputs": [
        {
          "output_type": "stream",
          "name": "stdout",
          "text": [
            "Sigmoid Model Doğruluk: 1.0\n",
            "ReLU Model Doğruluk: 0.5\n",
            "Swish Model Doğruluk: 0.5\n"
          ]
        }
      ]
    },
    {
      "cell_type": "code",
      "source": [
        "# Doğruluk değerlerini görselleştirme\n",
        "plt.bar(['Sigmoid', 'ReLU', 'Swish'], [sigmoid_accuracy, relu_accuracy, swish_accuracy])\n",
        "plt.xlabel('Aktivasyon Fonksiyonu')\n",
        "plt.ylabel('Doğruluk')\n",
        "plt.title('Aktivasyon Fonksiyonlarının Doğruluk Karşılaştırması')\n",
        "plt.show()"
      ],
      "metadata": {
        "colab": {
          "base_uri": "https://localhost:8080/",
          "height": 472
        },
        "id": "YAYMUrAJ69F5",
        "outputId": "f654ccb2-d1bb-4fac-c23b-878b6dedd6ce"
      },
      "execution_count": 52,
      "outputs": [
        {
          "output_type": "display_data",
          "data": {
            "text/plain": [
              "<Figure size 640x480 with 1 Axes>"
            ],
            "image/png": "[encoded data removed]"
          },
          "metadata": {}
        }
      ]
    }
  ]
}