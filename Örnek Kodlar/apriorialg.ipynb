{
 "cells": [
  {
   "cell_type": "code",
   "execution_count": 17,
   "metadata": {},
   "outputs": [],
   "source": [
    "from apyori import apriori"
   ]
  },
  {
   "cell_type": "code",
   "execution_count": 18,
   "metadata": {},
   "outputs": [],
   "source": [
    "transactions = [\n",
    "    ['Apples', 'Oranges', 'Bananas'],\n",
    "    ['Milk', 'Butter', 'Cheese'],\n",
    "    ['Chicken', 'Beef', 'Fish'],\n",
    "    ['Toilet Paper', 'Paper Towels', 'Dish Soap'],\n",
    "    ['Trash Bags', 'Laundry Detergent', 'Bleach'],\n",
    "]\n"
   ]
  },
  {
   "cell_type": "code",
   "execution_count": 19,
   "metadata": {},
   "outputs": [],
   "source": [
    "min_support = 0.5\n",
    "min_confidence = 0.7\n",
    "\n",
    "# Run the Apriori algorithm\n",
    "rules = apriori(transactions, min_support=min_support, min_confidence=min_confidence)"
   ]
  },
  {
   "cell_type": "code",
   "execution_count": 21,
   "metadata": {},
   "outputs": [],
   "source": [
    "for rule in rules:\n",
    "    print(list(rule))"
   ]
  }
 ],
 "metadata": {
  "kernelspec": {
   "display_name": "base",
   "language": "python",
   "name": "python3"
  },
  "language_info": {
   "codemirror_mode": {
    "name": "ipython",
    "version": 3
   },
   "file_extension": ".py",
   "mimetype": "text/x-python",
   "name": "python",
   "nbconvert_exporter": "python",
   "pygments_lexer": "ipython3",
   "version": "3.10.11"
  },
  "orig_nbformat": 4
 },
 "nbformat": 4,
 "nbformat_minor": 2
}
